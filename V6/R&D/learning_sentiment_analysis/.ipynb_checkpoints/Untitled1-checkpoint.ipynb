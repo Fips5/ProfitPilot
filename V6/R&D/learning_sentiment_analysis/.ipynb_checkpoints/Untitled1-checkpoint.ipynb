{
 "cells": [
  {
   "cell_type": "code",
   "execution_count": 1,
   "id": "8b902b12-e7e3-4de7-9dc8-c241eb521e9a",
   "metadata": {},
   "outputs": [],
   "source": [
    "import pandas as pd\n",
    "import numpy as np\n",
    "import matplotlib.pyplot as plt\n",
    "import re\n",
    "import nltk\n",
    "from nltk.corpus import stopwords\n",
    "from numpy import array\n",
    "\n",
    "import tensorflow as tf\n",
    "from tensorflow import keras\n",
    "\n",
    "# Ensure all imports are from tensorflow.keras\n",
    "from tensorflow.keras.preprocessing.text import one_hot, Tokenizer\n",
    "from tensorflow.keras.preprocessing.sequence import pad_sequences\n",
    "from tensorflow.keras.models import Sequential\n",
    "from tensorflow.keras.layers  import Activation, Dropout, Dense\n",
    "from tensorflow.keras.layers import Flatten, GlobalMaxPooling1D, Embedding, LSTM, Conv1D\n",
    "\n",
    "from sklearn.model_selection import train_test_split\n"
   ]
  },
  {
   "cell_type": "code",
   "execution_count": 2,
   "id": "4c46397f-4a5a-4a6c-8c35-6730655a728e",
   "metadata": {},
   "outputs": [
    {
     "data": {
      "text/plain": [
       "(50000, 2)"
      ]
     },
     "execution_count": 2,
     "metadata": {},
     "output_type": "execute_result"
    }
   ],
   "source": [
    "csv_path = r'C:\\Users\\David\\Documents\\ProfitPilot\\V6\\R&D\\learning_sentiment_analysis\\IMDB_Dataset.csv'\n",
    "df = pd.read_csv(csv_path)\n",
    "df.shape"
   ]
  },
  {
   "cell_type": "code",
   "execution_count": 3,
   "id": "97bced4d-59d5-4e7a-802f-9f6ec852bd2d",
   "metadata": {},
   "outputs": [
    {
     "data": {
      "text/html": [
       "<div>\n",
       "<style scoped>\n",
       "    .dataframe tbody tr th:only-of-type {\n",
       "        vertical-align: middle;\n",
       "    }\n",
       "\n",
       "    .dataframe tbody tr th {\n",
       "        vertical-align: top;\n",
       "    }\n",
       "\n",
       "    .dataframe thead th {\n",
       "        text-align: right;\n",
       "    }\n",
       "</style>\n",
       "<table border=\"1\" class=\"dataframe\">\n",
       "  <thead>\n",
       "    <tr style=\"text-align: right;\">\n",
       "      <th></th>\n",
       "      <th>review</th>\n",
       "      <th>sentiment</th>\n",
       "    </tr>\n",
       "  </thead>\n",
       "  <tbody>\n",
       "    <tr>\n",
       "      <th>0</th>\n",
       "      <td>One of the other reviewers has mentioned that ...</td>\n",
       "      <td>positive</td>\n",
       "    </tr>\n",
       "  </tbody>\n",
       "</table>\n",
       "</div>"
      ],
      "text/plain": [
       "                                              review sentiment\n",
       "0  One of the other reviewers has mentioned that ...  positive"
      ]
     },
     "execution_count": 3,
     "metadata": {},
     "output_type": "execute_result"
    }
   ],
   "source": [
    "df.head(1)"
   ]
  },
  {
   "cell_type": "code",
   "execution_count": 4,
   "id": "df3502ea-cc15-4805-a737-808d09a4327d",
   "metadata": {},
   "outputs": [
    {
     "data": {
      "text/plain": [
       "review       0\n",
       "sentiment    0\n",
       "dtype: int64"
      ]
     },
     "execution_count": 4,
     "metadata": {},
     "output_type": "execute_result"
    }
   ],
   "source": [
    "df.isnull().sum()"
   ]
  },
  {
   "cell_type": "code",
   "execution_count": 5,
   "id": "243dd1d9-8dd6-4381-9ee7-fe4511d09061",
   "metadata": {},
   "outputs": [
    {
     "data": {
      "text/plain": [
       "(array([25000.,     0.,     0.,     0.,     0.,     0.,     0.,     0.,\n",
       "            0., 25000.]),\n",
       " array([0. , 0.1, 0.2, 0.3, 0.4, 0.5, 0.6, 0.7, 0.8, 0.9, 1. ]),\n",
       " <BarContainer object of 10 artists>)"
      ]
     },
     "execution_count": 5,
     "metadata": {},
     "output_type": "execute_result"
    },
    {
     "data": {
      "image/png": "[encoded data removed]",
      "text/plain": [
       "<Figure size 640x480 with 1 Axes>"
      ]
     },
     "metadata": {},
     "output_type": "display_data"
    }
   ],
   "source": [
    "#pos/neg ratio:\n",
    "plt.hist(x = 'sentiment', data = df)"
   ]
  },
  {
   "cell_type": "code",
   "execution_count": 6,
   "id": "274729d6-fcfa-4d9c-a69b-222a378d4195",
   "metadata": {},
   "outputs": [
    {
     "data": {
      "text/plain": [
       "'I thought this was a wonderful way to spend time on a too hot summer weekend, sitting in the air conditioned theater and watching a light-hearted comedy. The plot is simplistic, but the dialogue is witty and the characters are likable (even the well bread suspected serial killer). While some may be disappointed when they realize this is not Match Point 2: Risk Addiction, I thought it was proof that Woody Allen is still fully in control of the style many of us have grown to love.<br /><br />This was the most I\\'d laughed at one of Woody\\'s comedies in years (dare I say a decade?). While I\\'ve never been impressed with Scarlet Johanson, in this she managed to tone down her \"sexy\" image and jumped right into a average, but spirited young woman.<br /><br />This may not be the crown jewel of his career, but it was wittier than \"Devil Wears Prada\" and more interesting than \"Superman\" a great comedy to go see with friends.'"
      ]
     },
     "execution_count": 6,
     "metadata": {},
     "output_type": "execute_result"
    }
   ],
   "source": [
    "df['review'][2]\n",
    "#see we have punctuations, brackets and html tags"
   ]
  },
  {
   "cell_type": "code",
   "execution_count": 7,
   "id": "f5c5547d-5ca8-4a77-a95e-d6410c9d10f2",
   "metadata": {},
   "outputs": [],
   "source": [
    "TAG_RE = re.compile(r'<[*>]+>')\n",
    "\n",
    "def remove_tags(text):\n",
    "  #removes html tags and replaces anything between <> with \" \"\n",
    "  return TAG_RE.sub('', text)"
   ]
  },
  {
   "cell_type": "code",
   "execution_count": 8,
   "id": "720941e1-5207-481d-9329-de702af8859f",
   "metadata": {},
   "outputs": [
    {
     "name": "stderr",
     "output_type": "stream",
     "text": [
      "[nltk_data] Downloading package stopwords to\n",
      "[nltk_data]     C:\\Users\\David\\AppData\\Roaming\\nltk_data...\n",
      "[nltk_data]   Package stopwords is already up-to-date!\n"
     ]
    },
    {
     "data": {
      "text/plain": [
       "True"
      ]
     },
     "execution_count": 8,
     "metadata": {},
     "output_type": "execute_result"
    }
   ],
   "source": [
    "nltk.download('stopwords')"
   ]
  },
  {
   "cell_type": "code",
   "execution_count": 9,
   "id": "dc18d93f-ed5b-43f3-abd1-450443d56a64",
   "metadata": {},
   "outputs": [],
   "source": [
    "def preprocess_text(sen):\n",
    "    # Convert to lowercase\n",
    "    sentence = sen.lower()\n",
    "\n",
    "    # Remove HTML tags if any\n",
    "    sentence = remove_tags(sentence)\n",
    "\n",
    "    # Remove punctuation and numbers\n",
    "    sentence = re.sub('[^a-zA-Z]', ' ', sentence)\n",
    "\n",
    "    # Remove single characters (like 'a', 'b', 'c', etc.) surrounded by spaces\n",
    "    sentence = re.sub(r\"\\s+[a-zA-Z]\\s+\", ' ', sentence)\n",
    "\n",
    "    # Remove multiple spaces with a single space\n",
    "    sentence = re.sub(r'\\s+', ' ', sentence)\n",
    "\n",
    "    # Remove stopwords\n",
    "    stop_words = set(stopwords.words('english'))\n",
    "    sentence = ' '.join([word for word in sentence.split() if word not in stop_words])\n",
    "\n",
    "    return sentence\n",
    "\n",
    "x = []\n",
    "sentences = list(df['review'])\n",
    "for sen in sentences:\n",
    "  x.append(preprocess_text(sen))"
   ]
  },
  {
   "cell_type": "code",
   "execution_count": 10,
   "id": "99ac0cfc-7a93-4944-9ef2-b5b2fd74a293",
   "metadata": {},
   "outputs": [
    {
     "data": {
      "text/plain": [
       "'thought wonderful way spend time hot summer weekend sitting air conditioned theater watching light hearted comedy plot simplistic dialogue witty characters likable even well bread suspected serial killer may disappointed realize match point risk addiction thought proof woody allen still fully control style many us grown love br br laughed one woody comedies years dare say decade never impressed scarlet johanson managed tone sexy image jumped right average spirited young woman br br may crown jewel career wittier devil wears prada interesting superman great comedy go see friends'"
      ]
     },
     "execution_count": 10,
     "metadata": {},
     "output_type": "execute_result"
    }
   ],
   "source": [
    "x[2]"
   ]
  },
  {
   "cell_type": "code",
   "execution_count": 11,
   "id": "478b820b-d0aa-4da7-bbf5-754e13849383",
   "metadata": {},
   "outputs": [],
   "source": [
    "# converting sentiment labels to 0 & 1\n",
    "\n",
    "y = df['sentiment']\n",
    "y = np.array(list(map(lambda x: 1 if x=='positive' else 0, y)))"
   ]
  },
  {
   "cell_type": "code",
   "execution_count": 12,
   "id": "6d66fb9c-f455-4e80-aa85-746b719bd149",
   "metadata": {},
   "outputs": [],
   "source": [
    "X_train, X_test, y_train, y_test = train_test_split(x, y, test_size=0.2, random_state=42)"
   ]
  },
  {
   "cell_type": "markdown",
   "id": "23f312d9-68d0-434a-b07b-4c0f19a0a6f4",
   "metadata": {},
   "source": [
    "# Preparing embedding layer"
   ]
  },
  {
   "cell_type": "code",
   "execution_count": 13,
   "id": "f24182a7-a5c6-4a81-999e-efa9fdfa428a",
   "metadata": {},
   "outputs": [],
   "source": [
    "tokenizer = Tokenizer()\n",
    "tokenizer.fit_on_texts(df['review'])\n",
    "\n",
    "# Convert texts to sequences of integers\n",
    "sequences = tokenizer.texts_to_sequences(df['review'])"
   ]
  },
  {
   "cell_type": "code",
   "execution_count": 14,
   "id": "13cd1098-a292-4730-a4ea-d465226b5882",
   "metadata": {},
   "outputs": [
    {
     "data": {
      "text/plain": [
       "2493"
      ]
     },
     "execution_count": 14,
     "metadata": {},
     "output_type": "execute_result"
    }
   ],
   "source": [
    "# Compute the maximum length of sequences for reference (optional)\n",
    "max_word_count = max(len(seq) for seq in sequences)\n",
    "max_word_count"
   ]
  },
  {
   "cell_type": "code",
   "execution_count": 15,
   "id": "ea9858e4-54b7-44fc-9244-dcdd3742a616",
   "metadata": {},
   "outputs": [],
   "source": [
    "# Define your maximum length\n",
    "maxlen = 100\n",
    "\n",
    "# Pad sequences to the fixed length\n",
    "sequences_padded = pad_sequences(sequences, padding='post', maxlen=maxlen)\n",
    "\n",
    "# Assuming you want to split your data into training and testing sets\n",
    "from sklearn.model_selection import train_test_split\n",
    "\n",
    "# Split the data into training and test sets\n",
    "X_train, X_test, y_train, y_test = train_test_split(sequences_padded, y, test_size=0.2, random_state=42)"
   ]
  },
  {
   "cell_type": "code",
   "execution_count": 16,
   "id": "aac10b93-8a35-4b01-b021-3a7c060b950f",
   "metadata": {},
   "outputs": [
    {
     "data": {
      "text/plain": [
       "array([[ 7636,  8555,  1576, ...,  1003,   723,   156],\n",
       "       [  596,     5,    63, ...,     7,  8969,  9195],\n",
       "       [19429,  2107,  2498, ...,    51,  1087,    97],\n",
       "       ...,\n",
       "       [46752,     2, 50566, ...,   125,   199,  3254],\n",
       "       [    6,   268,     8, ...,  1069,     1,  2335],\n",
       "       [ 2470,     5,     1, ...,     1,   336,    27]])"
      ]
     },
     "execution_count": 16,
     "metadata": {},
     "output_type": "execute_result"
    }
   ],
   "source": [
    "X_test"
   ]
  },
  {
   "cell_type": "code",
   "execution_count": 17,
   "id": "cbe5b413-3036-4c55-871c-95ece44a3235",
   "metadata": {},
   "outputs": [],
   "source": [
    "#Load GloVe word embedding and creade an Embeddings Dictionary\n",
    "\n",
    "from numpy import asarray\n",
    "from numpy import zeros\n",
    "\n",
    "embeddings_dict = dict()\n",
    "glove_file = open(r'C:\\Users\\David\\Documents\\ProfitPilot\\V6\\R&D\\learning_sentiment_analysis\\glove.6B.100d.txt', encoding = 'utf8')\n",
    "\n",
    "for line in glove_file:\n",
    "  records = line.split()\n",
    "  word = records[0]\n",
    "  vector_dimensions = asarray(records[1:], dtype = 'float32')\n",
    "  embeddings_dict [word] = vector_dimensions\n",
    "glove_file.close()"
   ]
  },
  {
   "cell_type": "code",
   "execution_count": 21,
   "id": "779b83a7-f237-4a18-aa5d-220cfb7f6fc5",
   "metadata": {},
   "outputs": [
    {
     "data": {
      "text/plain": [
       "124253"
      ]
     },
     "execution_count": 21,
     "metadata": {},
     "output_type": "execute_result"
    }
   ],
   "source": [
    "# Adding 1 to store dimensions for words for which no pretrained word embeddings exist\n",
    "\n",
    "vocab_length = len(tokenizer.word_index) + 1\n",
    "\n",
    "vocab_length"
   ]
  },
  {
   "cell_type": "code",
   "execution_count": 22,
   "id": "fe844817-af16-4f2e-80a8-959855a21421",
   "metadata": {},
   "outputs": [],
   "source": [
    "embedding_matrix = zeros([vocab_length, 100])"
   ]
  },
  {
   "cell_type": "code",
   "execution_count": 23,
   "id": "aa25ba52-27af-4d6c-aadd-2ecbb0eb11df",
   "metadata": {},
   "outputs": [],
   "source": [
    "for word, index in tokenizer.word_index.items():\n",
    "  embedding_vector = embeddings_dict.get(word)\n",
    "  if embedding_vector is not None:\n",
    "    embedding_matrix[index] = embedding_vector"
   ]
  },
  {
   "cell_type": "code",
   "execution_count": 24,
   "id": "f6d23df7-eec0-40de-ba00-5a0e78cc3590",
   "metadata": {},
   "outputs": [
    {
     "data": {
      "text/plain": [
       "(124253, 100)"
      ]
     },
     "execution_count": 24,
     "metadata": {},
     "output_type": "execute_result"
    }
   ],
   "source": [
    "embedding_matrix.shape"
   ]
  },
  {
   "cell_type": "code",
   "execution_count": 25,
   "id": "7ef3002e-dd80-4763-b2a5-886dc3cb029d",
   "metadata": {},
   "outputs": [
    {
     "data": {
      "text/plain": [
       "(40000, 100)"
      ]
     },
     "execution_count": 25,
     "metadata": {},
     "output_type": "execute_result"
    }
   ],
   "source": [
    "X_train.shape"
   ]
  },
  {
   "cell_type": "markdown",
   "id": "8ea4657a-fcf0-4a65-b660-6da9021c0d65",
   "metadata": {},
   "source": []
  },
  {
   "cell_type": "code",
   "execution_count": 26,
   "id": "d396662a-8cac-4af5-9b27-57ef015d1907",
   "metadata": {},
   "outputs": [],
   "source": [
    "from tensorflow.keras.layers import LSTM"
   ]
  },
  {
   "cell_type": "code",
   "execution_count": 27,
   "id": "3dc41788-3406-42c4-80e9-b5d24797b0b5",
   "metadata": {},
   "outputs": [],
   "source": [
    "lstm_model = Sequential()\n",
    "embedding_layer = Embedding(vocab_length, 100, weights = [embedding_matrix], input_length = maxlen, trainable = False)\n",
    "\n",
    "lstm_model.add(embedding_layer)\n",
    "lstm_model.add(LSTM(128))\n",
    "\n",
    "lstm_model.add(Dense(1, activation = 'sigmoid'))"
   ]
  },
  {
   "cell_type": "code",
   "execution_count": 28,
   "id": "347021e1-4c20-4609-babf-2be02784a91e",
   "metadata": {},
   "outputs": [
    {
     "name": "stdout",
     "output_type": "stream",
     "text": [
      "Model: \"sequential\"\n",
      "_________________________________________________________________\n",
      " Layer (type)                Output Shape              Param #   \n",
      "=================================================================\n",
      " embedding (Embedding)       (None, 100, 100)          12425300  \n",
      "                                                                 \n",
      " lstm (LSTM)                 (None, 128)               117248    \n",
      "                                                                 \n",
      " dense (Dense)               (None, 1)                 129       \n",
      "                                                                 \n",
      "=================================================================\n",
      "Total params: 12,542,677\n",
      "Trainable params: 117,377\n",
      "Non-trainable params: 12,425,300\n",
      "_________________________________________________________________\n",
      "None\n"
     ]
    }
   ],
   "source": [
    "lstm_model.compile(\n",
    "    optimizer = 'adam',\n",
    "    loss = 'binary_crossentropy',\n",
    "    metrics = ['acc']\n",
    ")\n",
    "print(lstm_model.summary())"
   ]
  },
  {
   "cell_type": "code",
   "execution_count": 29,
   "id": "2a5fc403-c0a4-4ff5-9347-2efabc934308",
   "metadata": {},
   "outputs": [
    {
     "name": "stdout",
     "output_type": "stream",
     "text": [
      "Epoch 1/6\n",
      "250/250 [==============================] - 108s 410ms/step - loss: 0.5490 - acc: 0.7185 - val_loss: 0.4599 - val_acc: 0.7825\n",
      "Epoch 2/6\n",
      "250/250 [==============================] - 97s 388ms/step - loss: 0.4546 - acc: 0.7889 - val_loss: 0.4152 - val_acc: 0.8106\n",
      "Epoch 3/6\n",
      "250/250 [==============================] - 95s 379ms/step - loss: 0.4107 - acc: 0.8109 - val_loss: 0.4306 - val_acc: 0.7990\n",
      "Epoch 4/6\n",
      "250/250 [==============================] - 97s 389ms/step - loss: 0.3775 - acc: 0.8312 - val_loss: 0.3779 - val_acc: 0.8299\n",
      "Epoch 5/6\n",
      "250/250 [==============================] - 95s 379ms/step - loss: 0.3533 - acc: 0.8425 - val_loss: 0.3591 - val_acc: 0.8404\n",
      "Epoch 6/6\n",
      "250/250 [==============================] - 109s 435ms/step - loss: 0.3280 - acc: 0.8572 - val_loss: 0.3464 - val_acc: 0.8475\n"
     ]
    }
   ],
   "source": [
    "lstm_model_history = lstm_model.fit(X_train, y_train, batch_size = 128, epochs = 6, verbose = 1, validation_split = 0.2)"
   ]
  },
  {
   "cell_type": "code",
   "execution_count": 30,
   "id": "a52a5296-59d5-482d-b25a-7ce7e32886c5",
   "metadata": {},
   "outputs": [
    {
     "name": "stdout",
     "output_type": "stream",
     "text": [
      "313/313 [==============================] - 18s 56ms/step - loss: 0.3434 - acc: 0.8519\n"
     ]
    },
    {
     "data": {
      "text/plain": [
       "[0.3434339463710785, 0.8518999814987183]"
      ]
     },
     "execution_count": 30,
     "metadata": {},
     "output_type": "execute_result"
    }
   ],
   "source": [
    "score = lstm_model.evaluate(X_test, y_test, verbose = 1)\n",
    "score"
   ]
  },
  {
   "cell_type": "code",
   "execution_count": 31,
   "id": "fe92023d-9fd5-4038-bfda-9ed9bee932ca",
   "metadata": {},
   "outputs": [
    {
     "data": {
      "image/png": "[encoded data removed]",
      "text/plain": [
       "<Figure size 640x480 with 1 Axes>"
      ]
     },
     "metadata": {},
     "output_type": "display_data"
    },
    {
     "data": {
      "image/png": "[encoded data removed]",
      "text/plain": [
       "<Figure size 640x480 with 1 Axes>"
      ]
     },
     "metadata": {},
     "output_type": "display_data"
    }
   ],
   "source": [
    "plt.plot(lstm_model_history.history['acc'])\n",
    "plt.plot(lstm_model_history.history['val_acc'])\n",
    "\n",
    "plt.title('model accuracy')\n",
    "plt.ylabel('accuracy')\n",
    "plt.xlabel('epoch')\n",
    "plt.legend(['train','test'], loc='upper left')\n",
    "plt.show()\n",
    "\n",
    "plt.plot(lstm_model_history.history['loss'])\n",
    "plt.plot(lstm_model_history.history['val_loss'])\n",
    "\n",
    "plt.title('model loss')\n",
    "plt.ylabel('loss')\n",
    "plt.xlabel('epoch')\n",
    "plt.legend(['train','test'], loc='upper left')\n",
    "plt.show()"
   ]
  },
  {
   "cell_type": "code",
   "execution_count": 32,
   "id": "78b270ca-47ba-49cf-bf98-5d5a8eb0be1c",
   "metadata": {},
   "outputs": [],
   "source": [
    "\n",
    "lstm_model.save(f\"./c1_lstm_model_acc_{round(score[1], 3)}.h5\", save_format='h5')"
   ]
  },
  {
   "cell_type": "code",
   "execution_count": 33,
   "id": "34da6fa0-3405-487d-bef2-1cb732bff0c0",
   "metadata": {},
   "outputs": [
    {
     "ename": "OSError",
     "evalue": "No file or directory found at /content/c1_lstm_model_acc_0.848.h5",
     "output_type": "error",
     "traceback": [
      "\u001b[1;31m---------------------------------------------------------------------------\u001b[0m",
      "\u001b[1;31mOSError\u001b[0m                                   Traceback (most recent call last)",
      "Cell \u001b[1;32mIn[33], line 4\u001b[0m\n\u001b[0;32m      1\u001b[0m \u001b[38;5;28;01mfrom\u001b[39;00m \u001b[38;5;21;01mtensorflow\u001b[39;00m\u001b[38;5;21;01m.\u001b[39;00m\u001b[38;5;21;01mkeras\u001b[39;00m\u001b[38;5;21;01m.\u001b[39;00m\u001b[38;5;21;01mmodels\u001b[39;00m \u001b[38;5;28;01mimport\u001b[39;00m load_model\n\u001b[0;32m      3\u001b[0m model_path \u001b[38;5;241m=\u001b[39m\u001b[38;5;124mr\u001b[39m\u001b[38;5;124m'\u001b[39m\u001b[38;5;124m/content/c1_lstm_model_acc_0.848.h5\u001b[39m\u001b[38;5;124m'\u001b[39m\n\u001b[1;32m----> 4\u001b[0m pretrained_lstm_model \u001b[38;5;241m=\u001b[39m \u001b[43mload_model\u001b[49m\u001b[43m(\u001b[49m\u001b[43mmodel_path\u001b[49m\u001b[43m)\u001b[49m\n\u001b[0;32m      6\u001b[0m \u001b[38;5;66;03m# summarize model.\u001b[39;00m\n\u001b[0;32m      7\u001b[0m pretrained_lstm_model\u001b[38;5;241m.\u001b[39msummary()\n",
      "File \u001b[1;32m~\\anaconda3\\envs\\main\\lib\\site-packages\\keras\\utils\\traceback_utils.py:70\u001b[0m, in \u001b[0;36mfilter_traceback.<locals>.error_handler\u001b[1;34m(*args, **kwargs)\u001b[0m\n\u001b[0;32m     67\u001b[0m     filtered_tb \u001b[38;5;241m=\u001b[39m _process_traceback_frames(e\u001b[38;5;241m.\u001b[39m__traceback__)\n\u001b[0;32m     68\u001b[0m     \u001b[38;5;66;03m# To get the full stack trace, call:\u001b[39;00m\n\u001b[0;32m     69\u001b[0m     \u001b[38;5;66;03m# `tf.debugging.disable_traceback_filtering()`\u001b[39;00m\n\u001b[1;32m---> 70\u001b[0m     \u001b[38;5;28;01mraise\u001b[39;00m e\u001b[38;5;241m.\u001b[39mwith_traceback(filtered_tb) \u001b[38;5;28;01mfrom\u001b[39;00m \u001b[38;5;28;01mNone\u001b[39;00m\n\u001b[0;32m     71\u001b[0m \u001b[38;5;28;01mfinally\u001b[39;00m:\n\u001b[0;32m     72\u001b[0m     \u001b[38;5;28;01mdel\u001b[39;00m filtered_tb\n",
      "File \u001b[1;32m~\\anaconda3\\envs\\main\\lib\\site-packages\\keras\\saving\\save.py:226\u001b[0m, in \u001b[0;36mload_model\u001b[1;34m(filepath, custom_objects, compile, options)\u001b[0m\n\u001b[0;32m    224\u001b[0m \u001b[38;5;28;01mif\u001b[39;00m \u001b[38;5;28misinstance\u001b[39m(filepath_str, \u001b[38;5;28mstr\u001b[39m):\n\u001b[0;32m    225\u001b[0m     \u001b[38;5;28;01mif\u001b[39;00m \u001b[38;5;129;01mnot\u001b[39;00m tf\u001b[38;5;241m.\u001b[39mio\u001b[38;5;241m.\u001b[39mgfile\u001b[38;5;241m.\u001b[39mexists(filepath_str):\n\u001b[1;32m--> 226\u001b[0m         \u001b[38;5;28;01mraise\u001b[39;00m \u001b[38;5;167;01mIOError\u001b[39;00m(\n\u001b[0;32m    227\u001b[0m             \u001b[38;5;124mf\u001b[39m\u001b[38;5;124m\"\u001b[39m\u001b[38;5;124mNo file or directory found at \u001b[39m\u001b[38;5;132;01m{\u001b[39;00mfilepath_str\u001b[38;5;132;01m}\u001b[39;00m\u001b[38;5;124m\"\u001b[39m\n\u001b[0;32m    228\u001b[0m         )\n\u001b[0;32m    230\u001b[0m     \u001b[38;5;28;01mif\u001b[39;00m tf\u001b[38;5;241m.\u001b[39mio\u001b[38;5;241m.\u001b[39mgfile\u001b[38;5;241m.\u001b[39misdir(filepath_str):\n\u001b[0;32m    231\u001b[0m         \u001b[38;5;28;01mreturn\u001b[39;00m saved_model_load\u001b[38;5;241m.\u001b[39mload(\n\u001b[0;32m    232\u001b[0m             filepath_str, \u001b[38;5;28mcompile\u001b[39m, options\n\u001b[0;32m    233\u001b[0m         )\n",
      "\u001b[1;31mOSError\u001b[0m: No file or directory found at /content/c1_lstm_model_acc_0.848.h5"
     ]
    }
   ],
   "source": [
    "from tensorflow.keras.models import load_model\n",
    "\n",
    "model_path =r'/content/c1_lstm_model_acc_0.848.h5'\n",
    "pretrained_lstm_model = load_model(model_path)\n",
    "\n",
    "# summarize model.\n",
    "pretrained_lstm_model.summary()"
   ]
  },
  {
   "cell_type": "code",
   "execution_count": null,
   "id": "17209009-643b-4d78-8b2a-7131c768a929",
   "metadata": {},
   "outputs": [],
   "source": [
    "n = 22\n",
    "X_input = pad_sequences([X_test[n]], maxlen=128, padding='post', truncating='post')\n",
    "X_input = X_input.reshape(1, 128, 1)\n",
    "prediction = lstm_model.predict(X_input)\n",
    "prediction"
   ]
  },
  {
   "cell_type": "code",
   "execution_count": null,
   "id": "79794674-ed45-4a1c-af7d-ea38d0eb46b0",
   "metadata": {},
   "outputs": [],
   "source": [
    "df['sentiment'].iloc[22]"
   ]
  },
  {
   "cell_type": "code",
   "execution_count": null,
   "id": "60dc5f66-7a38-4b0a-a188-ab4ca522181d",
   "metadata": {},
   "outputs": [],
   "source": [
    "X_test[22]"
   ]
  },
  {
   "cell_type": "code",
   "execution_count": null,
   "id": "30c09101-0e8b-4b57-8f39-862e92fc438a",
   "metadata": {},
   "outputs": [],
   "source": [
    "def input_processing(text, tokenizer, maxlen=128):\n",
    "    \"\"\"\n",
    "    Process a single text input for prediction.\n",
    "\n",
    "    Args:\n",
    "    - text (str): The input text to be processed.\n",
    "    - tokenizer (Tokenizer): The tokenizer fitted on the training data.\n",
    "    - maxlen (int): The maximum length for padding sequences (default is 128).\n",
    "\n",
    "    Returns:\n",
    "    - numpy.array: A processed and padded sequence ready for prediction.\n",
    "    \"\"\"\n",
    "    # Preprocess the input text\n",
    "    text_processed = preprocess_text(text)\n",
    "    \n",
    "    # Convert the processed text to a sequence of integers\n",
    "    sequence = tokenizer.texts_to_sequences([text_processed])\n",
    "    \n",
    "    # Pad the sequence to the specified length\n",
    "    sequence_padded = pad_sequences(sequence, padding='post', maxlen=maxlen, truncating='post')\n",
    "    \n",
    "    # Reshape the sequence to match the model's input shape if necessary\n",
    "    sequence_formated = sequence_padded.reshape(1, maxlen, 1)\n",
    "\n",
    "    return sequence_formated\n",
    "\n"
   ]
  },
  {
   "cell_type": "code",
   "execution_count": null,
   "id": "36ec2b95-1961-45a2-b073-3e31021ba842",
   "metadata": {},
   "outputs": [],
   "source": [
    "sample_text = \"We recently published a list of10 Biggest AI Stories and Ratings Updates You Should Not Miss This Week.Since Advanced Micro Devices, Inc. (NASDAQ:AMD) ranks 6th on the list, it deserves a deeper look. The Federal Reserve now expects just one rate cut in this year, and the market\\u2019s reaction to this development has been calmer-than-expected, showing investors are now paying little to no attention to what the Fed does and instead have their eyes focused on AI, which continues to push the markets higher. Tech companies, small and large, are continuing to roll out AI-focused products and solutions, while funds are pouring billions into AI. \\u00a0SoftBank has recently committed another $5 billion in AI investments for 5 companies ($1 billion each). A Wall Street Journal report cited SoftBank\\u2019s CFO, who said the bank\\u2019s chief Masayoshi Son was taking a \\u201cbreak from quarterly earnings meetings so he could focus on AI.\\u201d In this backdrop it\\u2019s important to stay ahead of the curve and see what\\u2019s happening in the AI space. In this article we will take a look at some of the biggest AI stock ratings updates and stories which can\\u2019t be missed. We focused on AI stocks that are popular among the smart money investors. Why are we interested in the stocks that hedge funds pile into? The reason is simple: our research has shown that we can outperform the market by imitating the top stock picks of the best hedge funds. Our quarterly newsletter\\u2019s strategy selects 14 small-cap and large-cap stocks every quarter and has returned 275% since May 2014, beating its benchmark by 150 percentage points(see more details here). A robotic arm holding a semiconductor chip, emphasizing the precision and quality of the company's production equipment. Number of Hedge Fund Investors: 124 Advanced Micro Devices, Inc.\\u00a0(NASDAQ:AMD)\\u00a0shares recently slipped after Morgan Stanley\\u2019s Joseph Moore downgraded the stock to Equalweight from Overweight, saying the Street\\u2019s expectations from Advanced Micro Devices, Inc.\\u2019s (NASDAQ:AMD)\\u00a0AI business are \\u201ctoo high.\\u201d The analyst went on the say that Advanced Micro Devices, Inc.\\u00a0(NASDAQ:AMD)\\u00a0is expensive when compared to peers like NVDA and AVGO. However, the analyst retained his $176 price target on the stock. Average analyst estimate for Advanced Micro Devices, Inc.\\u00a0(NASDAQ:AMD)\\u00a0is\\u00a0$187.2, which presents an upside potential of 17%. Wall Street analysts expect Advanced Micro Devices, Inc.\\u00a0(NASDAQ:AMD)\\u00a0to grow 32.50% this year and 59% next year. For the next five years the growth will then moderate to 32% on a per-annum basis, which is still high. Based on Advanced Micro Devices, Inc.\\u2019s (NASDAQ:AMD)\\u00a02025 EPS forecast, the stock is trading at around 28.6X forward P/E ratio, which isn\\u2019t high given Advanced Micro Devices, Inc.\\u2019s (NASDAQ:AMD)\\u00a0growth trajectory and catalysts. Meridian Contrarian Fund stated the following regarding Advanced Micro Devices, Inc. (NASDAQ:AMD) in itsfourth quarter 2023 investor letter: \\u201cAdvanced Micro Devices, Inc.(NASDAQ:AMD) is a global semiconductor chip maker specializing in central processing units (CPUs), which are considered the core component of most computing devices, and graphics processing units (GPUs), which accelerate operations running on CPUs. We invested in 2018 when it was a mid-cap value stock plagued by many years of underperformance due to lagging technology and lost market hi share versus competitors Intel and Nvidia. Our research identified that changes and investments made by current management under CEO Lisa Su had, over several years, finally resulted in compelling technology that positioned AMD as a stronger competitor to Nvidia and that its latest products were superior to Intel\\u2019s. We invested on the the belief that AMD\\u2019s valuation at that that time did not reflect the potential for its technology leadership to generate significant market share gains and improved profits. This thesis has been playing out for several years. During the quarter, AMD unveiled more details about its upcoming GPU products for the AI market. The stock reacted positively to expectations that AMD\\u2019s GPU servers will be a viable alternative to Nvidia. Although we pared back our exposure to AMD into strength as part of our risk-management practice, we maintained a position in the stock. We believe AMD will continue to gain share in large and growing markets and is reasonably valued relative to the potential for significantly higher earnings.\\u201d Overall, Advanced Micro Devices, Inc. (NASDAQ:AMD) ranks 6th on Insider Monkey\\u2019s list titled10 Biggest AI Stories and Ratings Updates You Should Not Miss This Week. While we acknowledge the potential of AMD, our conviction lies in the belief that under the radar AI stocks hold greater promise for delivering higher returns, and doing so within a shorter timeframe. If you are looking for an AI stock that is more promising than AMD but that trades at less than 5 times its earnings, check out our report about thecheapest AI stock. READ NEXT:Michael Burry Is Selling These StocksandJim Cramer is Recommending These Stocks. Disclosure: None. This article is originally published at\\u00a0Insider Monkey. Sign in to access your portfolio\"\n",
    "processed_input = input_processing(sample_text, tokenizer, maxlen)\n",
    "#print(processed_input)\n",
    "\n",
    "# Now you can use this processed input for prediction\n",
    "prediction = lstm_model.predict(processed_input)\n",
    "prediction"
   ]
  },
  {
   "cell_type": "code",
   "execution_count": null,
   "id": "0c6f1d7f-f9f8-4e9b-ac4c-4c7de731d447",
   "metadata": {},
   "outputs": [],
   "source": [
    "import requests\n",
    "from bs4 import BeautifulSoup\n",
    "\n",
    "def extract_article_text(url):\n",
    "    # Define headers to mimic a browser request\n",
    "    headers = {\n",
    "        'User-Agent': 'Mozilla/5.0 (Windows NT 10.0; Win64; x64) AppleWebKit/537.36 (KHTML, like Gecko) Chrome/85.0.4183.121 Safari/537.36'\n",
    "    }\n",
    "\n",
    "    # Send a GET request to fetch the raw HTML content\n",
    "    response = requests.get(url, headers=headers)\n",
    "\n",
    "    # Check if the request was successful\n",
    "    if response.status_code == 200:\n",
    "        # Parse the HTML content using BeautifulSoup\n",
    "        soup = BeautifulSoup(response.text, 'html.parser')\n",
    "\n",
    "        # Extract the article content (usually in <p> tags within an article body)\n",
    "        article_body = soup.find('div', {'class': 'caas-body'})\n",
    "        paragraphs = article_body.find_all('p') if article_body else []\n",
    "        article_text = ' '.join([p.get_text(strip=True) for p in paragraphs])\n",
    "\n",
    "        return article_text\n",
    "    else:\n",
    "        print(\"Failed to retrieve the content. Status code:\", response.status_code)\n",
    "        return None\n",
    "\n",
    "# Example usage\n",
    "url = \"https://finance.yahoo.com/video/nvidia-shareholders-dream-easy-money-163047483.html\"\n",
    "article_text = extract_article_text(url)\n",
    "print(article_text)\n"
   ]
  },
  {
   "cell_type": "code",
   "execution_count": null,
   "id": "94068197-a9fa-45ad-845d-a7c168ada184",
   "metadata": {},
   "outputs": [],
   "source": [
    "processed_input = input_processing(article_text, tokenizer, maxlen)\n",
    "prediction = lstm_model.predict(processed_input)\n",
    "prediction"
   ]
  }
 ],
 "metadata": {
  "kernelspec": {
   "display_name": "Python 3 (ipykernel)",
   "language": "python",
   "name": "python3"
  },
  "language_info": {
   "codemirror_mode": {
    "name": "ipython",
    "version": 3
   },
   "file_extension": ".py",
   "mimetype": "text/x-python",
   "name": "python",
   "nbconvert_exporter": "python",
   "pygments_lexer": "ipython3",
   "version": "3.10.13"
  }
 },
 "nbformat": 4,
 "nbformat_minor": 5
}
